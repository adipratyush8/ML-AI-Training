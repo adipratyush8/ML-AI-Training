{
 "cells": [
  {
   "cell_type": "code",
   "execution_count": 15,
   "metadata": {},
   "outputs": [],
   "source": [
    "import pandas as pd\n",
    "import warnings\n",
    "warnings.filterwarnings('ignore')"
   ]
  },
  {
   "cell_type": "markdown",
   "metadata": {},
   "source": [
    "# Pandas\n",
    "1. Series --- 1D Array(Pandas Series is nothing but a column in an excel sheet)\n",
    "2. Data Frame --- 2D Array (Table format includes Rows and Columns)"
   ]
  },
  {
   "cell_type": "markdown",
   "metadata": {},
   "source": [
    "1. Series"
   ]
  },
  {
   "cell_type": "code",
   "execution_count": 17,
   "metadata": {},
   "outputs": [],
   "source": [
    "#In order to create 1D array using pandas we have to use class Series inside pandas library\n",
    "#In order to create 2D array using pandas we have to use class DataFrame inside pandas library\n",
    "#Indexing Always Starts from 0\n",
    "a=pd.Series([])\n",
    "b=pd.Series([1,2,3,4],index=['a','2','c','4'])#Here indexing Means the first collumn Defining the SN.NO:(giving referene at every position)\n",
    "c=pd.Series([1,2,3,4,5,6,7,9])\n",
    "d=pd.Series({'a':10,'b':2})\n"
   ]
  },
  {
   "cell_type": "code",
   "execution_count": 9,
   "metadata": {},
   "outputs": [
    {
     "name": "stdout",
     "output_type": "stream",
     "text": [
      "<class 'pandas.core.series.Series'>\n"
     ]
    }
   ],
   "source": [
    "print(type(a))"
   ]
  },
  {
   "cell_type": "code",
   "execution_count": 10,
   "metadata": {},
   "outputs": [
    {
     "data": {
      "text/plain": [
       "pandas.core.series.Series"
      ]
     },
     "execution_count": 10,
     "metadata": {},
     "output_type": "execute_result"
    }
   ],
   "source": [
    "type(b)"
   ]
  },
  {
   "cell_type": "code",
   "execution_count": 18,
   "metadata": {},
   "outputs": [
    {
     "data": {
      "text/plain": [
       "a    1\n",
       "2    2\n",
       "c    3\n",
       "4    4\n",
       "dtype: int64"
      ]
     },
     "execution_count": 18,
     "metadata": {},
     "output_type": "execute_result"
    }
   ],
   "source": [
    "b"
   ]
  },
  {
   "cell_type": "code",
   "execution_count": 12,
   "metadata": {},
   "outputs": [
    {
     "data": {
      "text/plain": [
       "0    1\n",
       "1    2\n",
       "2    3\n",
       "3    4\n",
       "4    5\n",
       "5    6\n",
       "6    7\n",
       "7    9\n",
       "dtype: int64"
      ]
     },
     "execution_count": 12,
     "metadata": {},
     "output_type": "execute_result"
    }
   ],
   "source": [
    "c"
   ]
  },
  {
   "cell_type": "code",
   "execution_count": 13,
   "metadata": {},
   "outputs": [
    {
     "data": {
      "text/plain": [
       "a    10\n",
       "b     2\n",
       "dtype: int64"
      ]
     },
     "execution_count": 13,
     "metadata": {},
     "output_type": "execute_result"
    }
   ],
   "source": [
    "d"
   ]
  },
  {
   "cell_type": "code",
   "execution_count": 19,
   "metadata": {},
   "outputs": [
    {
     "name": "stdout",
     "output_type": "stream",
     "text": [
      "0    1\n",
      "1    2\n",
      "2    3\n",
      "3    4\n",
      "dtype: int64\n",
      "<class 'pandas.core.series.Series'>\n"
     ]
    }
   ],
   "source": [
    "#Storing series in variable and again storing it into another\n",
    "i=pd.Series([1,2,3,4])#First VAr\n",
    "x=pd.Series(i)#Second Var\n",
    "print(i)\n",
    "print(type(i))"
   ]
  },
  {
   "cell_type": "code",
   "execution_count": 20,
   "metadata": {},
   "outputs": [
    {
     "name": "stdout",
     "output_type": "stream",
     "text": [
      "0                   1\n",
      "1                   2\n",
      "2                   3\n",
      "3    [Hello, Goodbye]\n",
      "4                   4\n",
      "dtype: object\n"
     ]
    }
   ],
   "source": [
    "#We can also Pass a list within a list at a particular index\n",
    "j=pd.Series([1,2,3,['Hello','Goodbye'],4])\n",
    "print(j)"
   ]
  },
  {
   "cell_type": "code",
   "execution_count": 31,
   "metadata": {},
   "outputs": [
    {
     "name": "stdout",
     "output_type": "stream",
     "text": [
      "0    1\n",
      "1    2\n",
      "2    3\n",
      "3    4\n",
      "4    5\n",
      "5    6\n",
      "6    7\n",
      "7    9\n",
      "dtype: int64\n",
      "The first item in the series is:\n",
      " 1\n",
      "The Fourth item in the series is:\n",
      " 4\n",
      "The Seventh item in the series is:\n",
      " 7\n",
      "All the elements from third position\n",
      " 2    3\n",
      "3    4\n",
      "4    5\n",
      "5    6\n",
      "6    7\n",
      "7    9\n",
      "dtype: int64\n"
     ]
    }
   ],
   "source": [
    "#We can also Access Specific items in the series\n",
    "print(c)\n",
    "print(\"The first item in the series is:\\n\",c[0])\n",
    "print(\"The Fourth item in the series is:\\n\",c[3])\n",
    "print(\"The Seventh item in the series is:\\n\",c[6])\n",
    "#We can use Slicing also in the Series with the help of list\n",
    "print(\"All the elements from third position\\n\",c[2:])\n"
   ]
  },
  {
   "cell_type": "code",
   "execution_count": 30,
   "metadata": {},
   "outputs": [
    {
     "name": "stdout",
     "output_type": "stream",
     "text": [
      "a       1\n",
      "b      45\n",
      "c      56\n",
      "d      67\n",
      "e      34\n",
      "f    2322\n",
      "g    3434\n",
      "h      45\n",
      "dtype: int64\n"
     ]
    }
   ],
   "source": [
    "#We can customize Index in this way Also\n",
    "l=pd.Series([1,45,56,67,34,2322,3434,45],index=list('abcdefgh'))\n",
    "print(l)"
   ]
  },
  {
   "cell_type": "code",
   "execution_count": 35,
   "metadata": {},
   "outputs": [
    {
     "data": {
      "text/plain": [
       "1      7\n",
       "2      7\n",
       "34     4\n",
       "3      3\n",
       "4      3\n",
       "43     2\n",
       "343    1\n",
       "434    1\n",
       "56     1\n",
       "67     1\n",
       "dtype: int64"
      ]
     },
     "execution_count": 35,
     "metadata": {},
     "output_type": "execute_result"
    }
   ],
   "source": [
    "#In order to find how many Similar Elements are present in the series\n",
    "p=pd.Series([1,2,34,343,434,3,43,4,34,34,3,4,3,43,4,1,1,1,1,1,1,2,2,2,2,2,2,56,67,34,]) \n",
    "p.value_counts()# Prints ( Value  and Counts)"
   ]
  },
  {
   "cell_type": "code",
   "execution_count": 37,
   "metadata": {},
   "outputs": [
    {
     "data": {
      "text/plain": [
       "4"
      ]
     },
     "execution_count": 37,
     "metadata": {},
     "output_type": "execute_result"
    }
   ],
   "source": [
    "#In order to find index of the Maximum element\n",
    "p.argmax()\n",
    "#In order to find index of the Minimum element\n",
    "# p.argmin()"
   ]
  },
  {
   "cell_type": "code",
   "execution_count": 38,
   "metadata": {},
   "outputs": [
    {
     "data": {
      "text/plain": [
       "4"
      ]
     },
     "execution_count": 38,
     "metadata": {},
     "output_type": "execute_result"
    }
   ],
   "source": [
    "#In order to find the index of the maximum element(similar to argmax)\n",
    "p.idxmax()\n",
    "#In order to find the index of the Minimum element(similar to argmin)\n",
    "p.idxmin()"
   ]
  },
  {
   "cell_type": "code",
   "execution_count": 40,
   "metadata": {},
   "outputs": [
    {
     "name": "stdout",
     "output_type": "stream",
     "text": [
      "3\n",
      "1\n"
     ]
    }
   ],
   "source": [
    "#Accessing the specific elements through custom indexing\n",
    "print(b['c'])\n",
    "print(b['a'])"
   ]
  },
  {
   "cell_type": "code",
   "execution_count": null,
   "metadata": {},
   "outputs": [],
   "source": []
  }
 ],
 "metadata": {
  "kernelspec": {
   "display_name": "Python 3.9.12 ('base')",
   "language": "python",
   "name": "python3"
  },
  "language_info": {
   "codemirror_mode": {
    "name": "ipython",
    "version": 3
   },
   "file_extension": ".py",
   "mimetype": "text/x-python",
   "name": "python",
   "nbconvert_exporter": "python",
   "pygments_lexer": "ipython3",
   "version": "3.9.12"
  },
  "orig_nbformat": 4,
  "vscode": {
   "interpreter": {
    "hash": "63a098acdb01c2fe09d9a0acb8a895ab14f589a0b079965e5e5d610d03a2bcdc"
   }
  }
 },
 "nbformat": 4,
 "nbformat_minor": 2
}
